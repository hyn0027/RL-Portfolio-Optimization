{
 "cells": [
  {
   "cell_type": "code",
   "execution_count": null,
   "metadata": {},
   "outputs": [],
   "source": [
    "from collections import defaultdict\n",
    "\n",
    "import numpy as np\n",
    "import pandas as pd\n",
    "import matplotlib.pyplot as plt\n",
    "from scipy.signal import argrelextrema\n",
    "from statsmodels.nonparametric.kernel_regression import KernelReg\n",
    "from yahoofinancials import YahooFinancials"
   ]
  },
  {
   "cell_type": "code",
   "execution_count": null,
   "metadata": {},
   "outputs": [],
   "source": [
    "start_date = '2017-01-01'\n",
    "end_date = '2017-12-31'\n",
    "stock_code = 'AAPL' # e.g. AMZN, GOOG, FB, NVDA"
   ]
  },
  {
   "cell_type": "code",
   "execution_count": null,
   "metadata": {},
   "outputs": [],
   "source": [
    "def preprocess_data(start_date, end_date, stock_code):\n",
    "    stock_data = YahooFinancials(stock_code).get_historical_price_data(start_date, end_date, 'daily')\n",
    "    price_data = stock_data[stock_code]['prices']\n",
    "    columns = ['formatted_date', 'open', 'high', 'low', 'close', 'adjclose', 'volume']\n",
    "    new_columns = ['Date', 'Open', 'High', 'Low', 'Close', 'Adj Close', 'Volume']\n",
    "    df = pd.DataFrame(data=price_data)[columns] # order dataframe columns\n",
    "    df = df.rename(index=str, columns=dict(zip(columns, new_columns))) # rename dataframe columns\n",
    "    return df, df['Close'], df['Date']"
   ]
  },
  {
   "cell_type": "code",
   "execution_count": null,
   "metadata": {},
   "outputs": [],
   "source": [
    "df, prices, dates = preprocess_data(start_date, end_date, stock_code)"
   ]
  },
  {
   "cell_type": "code",
   "execution_count": null,
   "metadata": {},
   "outputs": [],
   "source": [
    "# set the index from 1 for Nadaraya-Watson kernel regression\n",
    "prices.index = np.linspace(1, len(prices), len(prices))\n",
    "dates.index = np.linspace(1, len(dates), len(dates))"
   ]
  },
  {
   "cell_type": "code",
   "execution_count": null,
   "metadata": {},
   "outputs": [],
   "source": [
    "dates.head()"
   ]
  },
  {
   "cell_type": "code",
   "execution_count": null,
   "metadata": {},
   "outputs": [],
   "source": [
    "prices.head()"
   ]
  },
  {
   "cell_type": "code",
   "execution_count": null,
   "metadata": {},
   "outputs": [],
   "source": [
    "# https://onlinelibrary.wiley.com/doi/full/10.1111/0022-1082.00265\n",
    "# reference: https://www.quantopian.com/posts/an-empirical-algorithmic-evaluation-of-technical-analysis\n",
    "def find_max_min(prices):\n",
    "    model = KernelReg(prices.values, prices.index.values, var_type='c', bw='cv_ls')\n",
    "    smooth_prices = pd.Series(data=model.fit([prices.index.values])[0], index=prices.index) # index also from 1\n",
    "\n",
    "    # use the minima and maxima from the smoothed timeseries\n",
    "    # to identify true local minima and maxima in the original timeseres\n",
    "    # by taking the maximum/minimum price within a t-1, t+1 window in the smoothed timeseries\n",
    "    smooth_prices_max_indices = argrelextrema(smooth_prices.values, np.greater)[0]\n",
    "    smooth_prices_min_indices = argrelextrema(smooth_prices.values, np.less)[0]\n",
    "\n",
    "    price_max_indices = []\n",
    "    for i in smooth_prices_max_indices:\n",
    "        if 1 < i < len(prices)-1:\n",
    "            price_max_indices.append(prices.iloc[i-2:i+2].idxmax())\n",
    "\n",
    "    price_min_indices = []\n",
    "    for i in smooth_prices_min_indices:\n",
    "        if 1 < i < len(prices)-1:\n",
    "            price_min_indices.append(prices.iloc[i-2:i+2].idxmin())\n",
    "        \n",
    "    price_max = prices.loc[price_max_indices]\n",
    "    price_min = prices.loc[price_min_indices]\n",
    "    max_min = pd.concat([price_max, price_min]).sort_index()\n",
    "    max_min = max_min[~max_min.duplicated()] # deduplicate points that are both maximum and minimum\n",
    "    max_min\n",
    "    \n",
    "    return smooth_prices, smooth_prices_max_indices, smooth_prices_min_indices, \\\n",
    "            price_max_indices, price_min_indices, max_min"
   ]
  },
  {
   "cell_type": "code",
   "execution_count": null,
   "metadata": {
    "scrolled": true
   },
   "outputs": [],
   "source": [
    "smooth_prices, smooth_prices_max_indices, smooth_prices_min_indices, \\\n",
    "            price_max_indices, price_min_indices, max_min = find_max_min(prices)"
   ]
  },
  {
   "cell_type": "code",
   "execution_count": null,
   "metadata": {
    "scrolled": true
   },
   "outputs": [],
   "source": [
    "print(len(max_min))\n",
    "max_min.head()"
   ]
  },
  {
   "cell_type": "code",
   "execution_count": null,
   "metadata": {
    "scrolled": false
   },
   "outputs": [],
   "source": [
    "fig, ax = plt.subplots(figsize=(20,10), dpi=200)\n",
    "\n",
    "ax.plot(dates, prices, label='Prices')\n",
    "ax.plot(dates, smooth_prices, label='Smoothed Prices', linestyle='dashed')\n",
    "ax.set_xticks(np.arange(0, len(dates), 30))\n",
    "    \n",
    "smooth_prices_max = smooth_prices.loc[smooth_prices_max_indices]\n",
    "smooth_prices_min = smooth_prices.loc[smooth_prices_min_indices]\n",
    "price_max = prices.loc[price_max_indices]\n",
    "price_min = prices.loc[price_min_indices]\n",
    "\n",
    "ax.scatter(dates.loc[smooth_prices_max.index], smooth_prices_max.values, s=20, color='red', label='Smoothed Prices Maxima')\n",
    "ax.scatter(dates.loc[smooth_prices_min.index], smooth_prices_min.values, s=20, color='purple', label='Smoothed Prices Minima')\n",
    "\n",
    "ax.scatter(dates.loc[price_max.index], price_max.values, s=50, color='green', label='Prices Maxima')\n",
    "ax.scatter(dates.loc[price_min.index], price_min.values, s=50, color='blue', label='Prices Minima')\n",
    "ax.legend(loc='upper left')\n",
    "ax.grid()"
   ]
  },
  {
   "cell_type": "code",
   "execution_count": null,
   "metadata": {
    "scrolled": false
   },
   "outputs": [],
   "source": [
    "def plot_window(dates, prices, smooth_prices, \n",
    "                smooth_prices_max_indices, smooth_prices_min_indices,\n",
    "                price_max_indices, price_min_indices, \n",
    "                start, end, ax=None):\n",
    "    if ax is None: fig, ax = plt.subplots(figsize=(20,10), dpi=200)\n",
    "\n",
    "    ax.plot(dates.loc[start:end], prices.loc[start:end], label='Prices')\n",
    "    ax.plot(dates.loc[start:end], smooth_prices.loc[start:end], label='Smoothed Prices', linestyle='dashed')\n",
    "    ax.set_xticks(np.linspace(0, len(dates.loc[start:end]), 10))\n",
    "    ax.tick_params(axis='x', rotation=45)\n",
    "\n",
    "    smooth_prices_max = smooth_prices.loc[smooth_prices_max_indices].loc[start:end]\n",
    "    smooth_prices_min = smooth_prices.loc[smooth_prices_min_indices].loc[start:end]\n",
    "    price_max = prices.loc[price_max_indices].loc[start:end]\n",
    "    price_min = prices.loc[price_min_indices].loc[start:end]\n",
    "\n",
    "    ax.scatter(dates.loc[smooth_prices_max.index], smooth_prices_max.values, s=20, color='red', label='Smoothed Prices Maxima')\n",
    "    ax.scatter(dates.loc[smooth_prices_min.index], smooth_prices_min.values, s=20, color='purple', label='Smoothed Prices Minima')\n",
    "\n",
    "    ax.scatter(dates.loc[price_max.index], price_max.values, s=50, color='green', label='Prices Maxima')\n",
    "    ax.scatter(dates.loc[price_min.index], price_min.values, s=50, color='blue', label='Prices Minima')\n",
    "    ax.legend(fontsize='small')\n",
    "    ax.grid()"
   ]
  },
  {
   "cell_type": "code",
   "execution_count": null,
   "metadata": {
    "scrolled": false
   },
   "outputs": [],
   "source": [
    "plot_window(dates, prices, smooth_prices, \n",
    "            smooth_prices_max_indices, smooth_prices_min_indices,\n",
    "            price_max_indices, price_min_indices, \n",
    "            start=18, end=34, ax=None)"
   ]
  },
  {
   "cell_type": "code",
   "execution_count": null,
   "metadata": {},
   "outputs": [],
   "source": [
    "def find_patterns(max_min):\n",
    "    patterns = defaultdict(list)\n",
    "\n",
    "    for i in range(5, len(max_min)):\n",
    "        window = max_min.iloc[i-5:i]\n",
    "        \n",
    "        # pattern must play out in less than 36 days\n",
    "        if window.index[-1] - window.index[0] > 35:\n",
    "            continue\n",
    "\n",
    "        # Using the notation from the paper to avoid mistakes\n",
    "        e1, e2, e3, e4, e5 = window.iloc[:5]\n",
    "        rtop_g1 = np.mean([e1, e3, e5])\n",
    "        rtop_g2 = np.mean([e2, e4])\n",
    "        \n",
    "        # Head and Shoulders\n",
    "        if (e1 > e2) and (e3 > e1) and (e3 > e5) and \\\n",
    "            (abs(e1 - e5) <= 0.03*np.mean([e1,e5])) and \\\n",
    "            (abs(e2 - e4) <= 0.03*np.mean([e1,e5])):\n",
    "                patterns['HS'].append((window.index[0], window.index[-1]))\n",
    "\n",
    "        # Inverse Head and Shoulders\n",
    "        elif (e1 < e2) and (e3 < e1) and (e3 < e5) and \\\n",
    "            (abs(e1 - e5) <= 0.03*np.mean([e1,e5])) and \\\n",
    "            (abs(e2 - e4) <= 0.03*np.mean([e1,e5])):\n",
    "                patterns['IHS'].append((window.index[0], window.index[-1]))\n",
    "\n",
    "        # Broadening Top\n",
    "        elif (e1 > e2) and (e1 < e3) and (e3 < e5) and (e2 > e4):\n",
    "            patterns['BTOP'].append((window.index[0], window.index[-1]))\n",
    "\n",
    "        # Broadening Bottom\n",
    "        elif (e1 < e2) and (e1 > e3) and (e3 > e5) and (e2 < e4):\n",
    "            patterns['BBOT'].append((window.index[0], window.index[-1]))\n",
    "\n",
    "        # Triangle Top\n",
    "        elif (e1 > e2) and (e1 > e3) and (e3 > e5) and (e2 < e4):\n",
    "            patterns['TTOP'].append((window.index[0], window.index[-1]))\n",
    "\n",
    "        # Triangle Bottom\n",
    "        elif (e1 < e2) and (e1 < e3) and (e3 < e5) and (e2 > e4):\n",
    "            patterns['TBOT'].append((window.index[0], window.index[-1]))\n",
    "\n",
    "        # Rectangle Top\n",
    "        elif (e1 > e2) and (abs(e1-rtop_g1)/rtop_g1 < 0.0075) and \\\n",
    "            (abs(e3-rtop_g1)/rtop_g1 < 0.0075) and (abs(e5-rtop_g1)/rtop_g1 < 0.0075) and \\\n",
    "            (abs(e2-rtop_g2)/rtop_g2 < 0.0075) and (abs(e4-rtop_g2)/rtop_g2 < 0.0075) and \\\n",
    "            (min(e1, e3, e5) > max(e2, e4)):\n",
    "            patterns['RTOP'].append((window.index[0], window.index[-1]))\n",
    "\n",
    "        # Rectangle Bottom\n",
    "        elif (e1 < e2) and (abs(e1-rtop_g1)/rtop_g1 < 0.0075) and \\\n",
    "            (abs(e3-rtop_g1)/rtop_g1 < 0.0075) and (abs(e5-rtop_g1)/rtop_g1 < 0.0075) and \\\n",
    "            (abs(e2-rtop_g2)/rtop_g2 < 0.0075) and (abs(e4-rtop_g2)/rtop_g2 < 0.0075) and \\\n",
    "            (max(e1, e3, e5) > min(e2, e4)):\n",
    "            patterns['RBOT'].append((window.index[0], window.index[-1]))\n",
    "            \n",
    "    return patterns"
   ]
  },
  {
   "cell_type": "code",
   "execution_count": null,
   "metadata": {},
   "outputs": [],
   "source": [
    "patterns = find_patterns(max_min)\n",
    "patterns"
   ]
  },
  {
   "cell_type": "code",
   "execution_count": null,
   "metadata": {},
   "outputs": [],
   "source": [
    "shorthand_fullname_dict = {'HS': 'Head and Shoulders',\n",
    "                           'IHS': 'Inverse Head and Shoulders',\n",
    "                           'BTOP': 'Broadening Top',\n",
    "                           'BBOT': 'Broadening Bottom',\n",
    "                           'TTOP': 'Triangle Top',\n",
    "                           'TBOT': 'Triangle Bottom',\n",
    "                           'RTOP': 'Rectangle Top',\n",
    "                           'RBOT': 'Rectangle Bottom'\n",
    "                          }"
   ]
  },
  {
   "cell_type": "code",
   "execution_count": null,
   "metadata": {
    "scrolled": false
   },
   "outputs": [],
   "source": [
    "def visualize_patterns(dates, prices, smooth_prices, \n",
    "                       smooth_prices_max_indices, smooth_prices_min_indices, \n",
    "                       price_max_indices, price_min_indices, \n",
    "                       patterns, shorthand_fullname_dict):\n",
    "    for name, end_day_nums in patterns.items():\n",
    "        print('Pattern Identified: {} \\nNumber of Observations: {}'.format(shorthand_fullname_dict[name], len(end_day_nums)))\n",
    "        rows = int(np.ceil(len(end_day_nums)/2))\n",
    "        fig, axes = plt.subplots(rows, 2, figsize=(20,5*rows), dpi=200)\n",
    "        fig.subplots_adjust(hspace=0.5)\n",
    "        axes = axes.flatten()\n",
    "        i = 0\n",
    "        for start_date, end_date in end_day_nums:\n",
    "            plot_window(dates, prices, smooth_prices, \n",
    "                smooth_prices_max_indices, smooth_prices_min_indices,\n",
    "                price_max_indices, price_min_indices, \n",
    "                start=start_date-1, end=end_date+1, ax=axes[i])\n",
    "            i += 1\n",
    "        plt.show()"
   ]
  },
  {
   "cell_type": "code",
   "execution_count": null,
   "metadata": {
    "scrolled": false
   },
   "outputs": [],
   "source": [
    "visualize_patterns(dates, prices, smooth_prices, \n",
    "                       smooth_prices_max_indices, smooth_prices_min_indices, \n",
    "                       price_max_indices, price_min_indices, \n",
    "                       patterns, shorthand_fullname_dict)"
   ]
  },
  {
   "cell_type": "code",
   "execution_count": null,
   "metadata": {},
   "outputs": [],
   "source": []
  }
 ],
 "metadata": {
  "kernelspec": {
   "display_name": "Python 3",
   "language": "python",
   "name": "python3"
  },
  "language_info": {
   "codemirror_mode": {
    "name": "ipython",
    "version": 3
   },
   "file_extension": ".py",
   "mimetype": "text/x-python",
   "name": "python",
   "nbconvert_exporter": "python",
   "pygments_lexer": "ipython3",
   "version": "3.9.18"
  }
 },
 "nbformat": 4,
 "nbformat_minor": 2
}
